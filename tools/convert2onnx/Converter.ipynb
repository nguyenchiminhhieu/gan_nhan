{
 "cells": [
  {
   "cell_type": "code",
   "execution_count": 4,
   "metadata": {},
   "outputs": [],
   "source": [
    "import matplotlib.pyplot as plt\n",
    "from PIL import Image\n",
    "from tool.config import Cfg\n",
    "from tool.translate import build_model, process_input, translate\n",
    "import torch\n",
    "import onnxruntime\n",
    "import numpy as np"
   ]
  },
  {
   "cell_type": "code",
   "execution_count": 5,
   "metadata": {},
   "outputs": [
    {
     "name": "stderr",
     "output_type": "stream",
     "text": [
      "c:\\Users\\z230\\AppData\\Local\\Programs\\Python\\Python38\\lib\\site-packages\\torchvision\\models\\_utils.py:208: UserWarning: The parameter 'pretrained' is deprecated since 0.13 and may be removed in the future, please use 'weights' instead.\n",
      "  warnings.warn(\n",
      "c:\\Users\\z230\\AppData\\Local\\Programs\\Python\\Python38\\lib\\site-packages\\torchvision\\models\\_utils.py:223: UserWarning: Arguments other than a weight enum or `None` for 'weights' are deprecated since 0.13 and may be removed in the future. The current behavior is equivalent to passing `weights=None`.\n",
      "  warnings.warn(msg)\n"
     ]
    }
   ],
   "source": [
    "config = Cfg.load_config_from_file('./config/vgg-seq2seq.yml')\n",
    "config['cnn']['pretrained']=False\n",
    "config['device'] = 'cpu'\n",
    "model, vocab = build_model(config)\n",
    "weight_path = './weight/seq2seqocr.pth'"
   ]
  },
  {
   "cell_type": "code",
   "execution_count": 5,
   "metadata": {},
   "outputs": [],
   "source": [
    "# load weight\n",
    "model.load_state_dict(torch.load(weight_path, map_location=torch.device(config['device'])))\n",
    "model = model.eval() "
   ]
  },
  {
   "cell_type": "markdown",
   "metadata": {},
   "source": [
    "## Export CNN part"
   ]
  },
  {
   "cell_type": "code",
   "execution_count": 4,
   "metadata": {},
   "outputs": [],
   "source": [
    "def convert_cnn_part(img, save_path, model, max_seq_length=128, sos_token=1, eos_token=2): \n",
    "    with torch.no_grad(): \n",
    "        src = model.cnn(img)\n",
    "        torch.onnx.export(model.cnn, \n",
    "                          img, \n",
    "                          save_path, \n",
    "                          export_params=True, \n",
    "                          opset_version=12, \n",
    "                          do_constant_folding=True, \n",
    "                          verbose=True, \n",
    "                          input_names=['img'], \n",
    "                          output_names=['output'], \n",
    "                          dynamic_axes={'img': {3: 'lenght'}, 'output': {0: 'channel'}})\n",
    "    \n",
    "    return src"
   ]
  },
  {
   "cell_type": "code",
   "execution_count": 47,
   "metadata": {},
   "outputs": [],
   "source": [
    "img = torch.rand(1, 3, 32, 475)\n",
    "src = convert_cnn_part(img, './weight/cnn.onnx', model)"
   ]
  },
  {
   "cell_type": "code",
   "execution_count": 45,
   "metadata": {},
   "outputs": [],
   "source": [
    "img = torch.rand(1, 3, 32, 290)\n",
    "src = convert_cnn_part(img, './weight/cnn123.onnx', model)"
   ]
  },
  {
   "cell_type": "code",
   "execution_count": 53,
   "metadata": {},
   "outputs": [
    {
     "name": "stdout",
     "output_type": "stream",
     "text": [
      "torch.Size([236, 1, 256])\n",
      "tensor([[-5.6706e-02,  1.0057e-01,  4.2346e-02,  3.2915e-03, -4.8635e-02,\n",
      "          9.0643e-02, -7.3254e-02,  5.5821e-03,  2.6270e-01, -9.1775e-02,\n",
      "          8.1345e-02, -1.1094e-01,  7.4715e-03,  1.0547e-01,  8.8589e-02,\n",
      "          4.7154e-02,  2.9565e-02,  1.0230e-01, -1.0234e-01,  5.3444e-03,\n",
      "          2.9170e-02, -7.0159e-02,  2.3480e-02,  1.9931e-01, -7.7080e-03,\n",
      "          2.5892e-02,  1.2249e-01, -1.1214e-01,  1.0046e-01,  5.5964e-02,\n",
      "         -8.1989e-02, -8.1518e-02,  3.7256e-02,  1.3263e-01,  6.3373e-02,\n",
      "          4.2336e-01,  2.3565e-02, -4.0286e-02, -1.2421e-01, -8.5248e-02,\n",
      "         -1.2295e-04,  6.9306e-02,  6.2697e-02,  5.0056e-02,  2.8205e-02,\n",
      "          3.6346e-03,  2.9429e-01, -8.2985e-02,  1.9135e-02,  8.5514e-02,\n",
      "         -1.3889e-01, -1.4023e-02, -7.1576e-03, -2.5264e-01, -1.1803e-01,\n",
      "          7.8759e-03, -1.2207e-01, -6.7416e-02, -7.4444e-04,  7.7486e-02,\n",
      "          4.9645e-02, -8.1011e-03,  6.1303e-02, -1.4124e-02, -3.0959e-02,\n",
      "         -1.5565e-01,  2.4040e-01, -3.6898e-02,  6.3003e-03, -9.5972e-02,\n",
      "         -5.9426e-02, -8.6138e-02, -2.5990e-02, -2.3020e-01,  1.5099e-02,\n",
      "         -1.0441e-01, -1.4768e-01,  2.7820e-02, -3.9304e-02,  1.3709e-02,\n",
      "         -9.9367e-02,  1.7085e-01,  1.1969e-01,  8.5371e-02,  1.3559e-02,\n",
      "          1.2131e-01, -1.3007e-01,  7.3005e-02, -2.3429e-02,  1.1149e-02,\n",
      "         -8.5345e-02, -8.7028e-02,  1.0108e-01, -1.2359e-01, -1.4742e-01,\n",
      "         -1.6191e-01, -1.0164e-02, -9.2425e-02, -1.8542e-02, -7.3998e-02,\n",
      "         -1.5232e-02,  9.3665e-02, -2.4882e-02, -7.8798e-02,  5.8867e-02,\n",
      "          8.7201e-03, -1.8339e-02, -2.0274e-02, -7.5814e-02, -1.4809e-01,\n",
      "          7.3395e-03,  5.3958e-02,  2.3438e-01, -2.7948e-02, -2.6444e-02,\n",
      "         -6.8853e-02, -2.1575e-03,  3.4089e-02,  1.3215e-01, -2.6773e-02,\n",
      "         -5.6070e-02, -7.2064e-02, -6.3891e-02, -1.3278e-01, -9.7543e-02,\n",
      "         -7.8120e-02,  5.8709e-02, -2.2930e-01,  3.2500e-02, -2.0323e-03,\n",
      "          6.9993e-02, -7.5990e-02,  8.5126e-02,  1.7729e-01,  1.1531e-01,\n",
      "         -4.0852e-02, -9.7480e-02,  8.3688e-02, -2.1593e-01,  2.8363e-02,\n",
      "         -1.2708e-02,  3.4849e-02,  3.7163e-02, -6.6117e-02, -3.2157e-02,\n",
      "         -6.8054e-02, -3.3742e-02, -1.4975e-01, -2.9916e-02,  2.3178e-02,\n",
      "          1.5368e-02, -6.7515e-02, -3.7210e-05, -2.7225e-02, -6.9912e-02,\n",
      "         -5.3112e-02, -1.2554e-01, -3.8588e-01,  5.7635e-02,  4.9619e-02,\n",
      "          4.7211e-03, -3.9450e-02, -7.7211e-02,  3.4795e-02,  2.7421e-02,\n",
      "          5.5038e-02,  9.1744e-02, -5.6521e-02,  1.2814e-01, -3.6120e-03,\n",
      "         -1.7033e-02,  1.0237e-02,  2.5813e-02, -4.0711e-02,  3.7811e-02,\n",
      "          1.2358e-02,  8.5476e-02, -6.4843e-03,  4.3141e-02,  6.1666e-02,\n",
      "          1.1192e-01,  8.1783e-02,  6.8793e-02,  2.8947e-02,  1.9121e-01,\n",
      "         -3.0970e-02, -1.5364e-04, -1.0825e-01, -3.2416e-01, -1.1648e-01,\n",
      "         -9.3102e-02,  1.2380e-01,  2.3388e-02,  2.0880e-02, -8.9544e-02,\n",
      "         -2.7191e-02, -4.4446e-02,  1.9853e-02, -6.4092e-02,  8.0716e-02,\n",
      "          4.3471e-02, -1.3733e-01,  3.5652e-02,  2.2897e-02,  4.7851e-02,\n",
      "          7.3006e-03, -1.6102e-01, -3.0150e-02, -5.8535e-02,  2.4168e-01,\n",
      "          1.7291e-01,  2.6340e-03, -2.8877e-02,  6.4563e-02, -1.7276e-02,\n",
      "         -6.3737e-02, -1.3229e-01, -6.5446e-02,  1.1136e-01,  8.5831e-02,\n",
      "          4.0153e-02, -2.9935e-02,  2.5304e-02,  1.2936e-01,  9.1353e-02,\n",
      "         -3.1204e-02,  3.5654e-02,  9.8703e-03, -1.3695e-02,  1.4159e-04,\n",
      "          2.0360e-02, -6.5064e-02, -9.6711e-02,  1.1548e-01,  4.7854e-02,\n",
      "         -6.8451e-02,  4.1297e-02,  1.7993e-01, -1.5206e-01,  5.5371e-02,\n",
      "         -2.0135e-03, -1.0748e-01, -6.4579e-03,  1.0450e-02,  2.3157e-01,\n",
      "          2.5813e-02, -5.2627e-02, -2.3012e-03, -1.2994e-01,  3.0652e-02,\n",
      "          1.2967e-01,  3.9765e-02, -8.6369e-02, -1.1907e-01, -4.6943e-02,\n",
      "          3.4318e-02]])\n"
     ]
    }
   ],
   "source": [
    "print(src.shape)\n",
    "print(src[0])"
   ]
  },
  {
   "cell_type": "markdown",
   "metadata": {},
   "source": [
    "## Export encoder part"
   ]
  },
  {
   "cell_type": "code",
   "execution_count": 49,
   "metadata": {},
   "outputs": [],
   "source": [
    "def convert_encoder_part(model, src, save_path): \n",
    "    encoder_outputs, hidden = model.transformer.encoder(src) \n",
    "    torch.onnx.export(model.transformer.encoder, \n",
    "                      src, \n",
    "                      save_path, \n",
    "                      export_params=True, \n",
    "                      opset_version=11, \n",
    "                      do_constant_folding=True, \n",
    "                      input_names=['src'], \n",
    "                      output_names=['encoder_outputs', 'hidden'], \n",
    "                      dynamic_axes={'src':{0: \"channel_input\"}, 'encoder_outputs': {0: 'channel_output'}}) \n",
    "    return hidden, encoder_outputs"
   ]
  },
  {
   "cell_type": "code",
   "execution_count": 50,
   "metadata": {},
   "outputs": [
    {
     "name": "stderr",
     "output_type": "stream",
     "text": [
      "c:\\Users\\z230\\miniforge3\\lib\\site-packages\\torch\\onnx\\symbolic_opset9.py:4662: UserWarning: Exporting a model to ONNX with a batch_size other than 1, with a variable length with GRU can cause an error when running the ONNX model with a different batch size. Make sure to save the model with a batch size of 1, or define the initial states (h0/c0) as inputs of the model. \n",
      "  warnings.warn(\n"
     ]
    }
   ],
   "source": [
    "hidden, encoder_outputs = convert_encoder_part(model, src, './weight/encoder.onnx')"
   ]
  },
  {
   "cell_type": "code",
   "execution_count": 51,
   "metadata": {},
   "outputs": [
    {
     "name": "stdout",
     "output_type": "stream",
     "text": [
      "torch.Size([1, 256])\n",
      "torch.Size([236, 1, 512])\n"
     ]
    }
   ],
   "source": [
    "print(hidden.shape)\n",
    "print(encoder_outputs.shape)"
   ]
  },
  {
   "cell_type": "markdown",
   "metadata": {},
   "source": [
    "## Export decoder part"
   ]
  },
  {
   "cell_type": "code",
   "execution_count": 54,
   "metadata": {},
   "outputs": [],
   "source": [
    "def convert_decoder_part(model, tgt, hidden, encoder_outputs, save_path):\n",
    "    tgt = tgt[-1]\n",
    "    print(tgt)\n",
    "    torch.onnx.export(model.transformer.decoder,\n",
    "        (tgt, hidden, encoder_outputs),\n",
    "        save_path,\n",
    "        export_params=True,\n",
    "        opset_version=11,\n",
    "        do_constant_folding=True,\n",
    "        input_names=['tgt', 'hidden', 'encoder_outputs'],\n",
    "        output_names=['output', 'hidden_out', 'last'],\n",
    "        dynamic_axes={'encoder_outputs':{0: \"channel_input\"},\n",
    "                    'last': {0: 'channel_output'}})"
   ]
  },
  {
   "cell_type": "code",
   "execution_count": 55,
   "metadata": {},
   "outputs": [],
   "source": [
    "device = img.device\n",
    "tgt = torch.LongTensor([[1] * len(img)]).to(device)"
   ]
  },
  {
   "cell_type": "code",
   "execution_count": 4,
   "metadata": {},
   "outputs": [
    {
     "data": {
      "text/plain": [
       "1"
      ]
     },
     "execution_count": 4,
     "metadata": {},
     "output_type": "execute_result"
    }
   ],
   "source": [
    "img = torch.rand(1, 3, 32, 290)\n",
    "len(img)"
   ]
  },
  {
   "cell_type": "code",
   "execution_count": 56,
   "metadata": {},
   "outputs": [
    {
     "name": "stdout",
     "output_type": "stream",
     "text": [
      "tensor([1])\n"
     ]
    },
    {
     "name": "stderr",
     "output_type": "stream",
     "text": [
      "d:\\Hung\\Projects\\ConvertVietOcr2Onnx\\model\\seqmodel\\seq2seq.py:93: TracerWarning: Converting a tensor to a Python boolean might cause the trace to be incorrect. We can't record the data flow of Python values, so this value will be treated as a constant in the future. This means that the trace might not generalize to other inputs!\n",
      "  assert (output == hidden).all()\n",
      "c:\\Users\\z230\\miniforge3\\lib\\site-packages\\torch\\onnx\\symbolic_opset9.py:4662: UserWarning: Exporting a model to ONNX with a batch_size other than 1, with a variable length with GRU can cause an error when running the ONNX model with a different batch size. Make sure to save the model with a batch size of 1, or define the initial states (h0/c0) as inputs of the model. \n",
      "  warnings.warn(\n"
     ]
    }
   ],
   "source": [
    "convert_decoder_part(model, tgt, hidden, encoder_outputs, './weight/decoder.onnx')"
   ]
  },
  {
   "cell_type": "code",
   "execution_count": 57,
   "metadata": {},
   "outputs": [
    {
     "name": "stdout",
     "output_type": "stream",
     "text": [
      "tensor([1])\n"
     ]
    }
   ],
   "source": [
    "convert_decoder_part(model, tgt, hidden, encoder_outputs, './weight/decoder123.onnx')\n"
   ]
  },
  {
   "cell_type": "markdown",
   "metadata": {},
   "source": [
    "## Load and check model"
   ]
  },
  {
   "cell_type": "code",
   "execution_count": 6,
   "metadata": {},
   "outputs": [],
   "source": [
    "import onnx"
   ]
  },
  {
   "cell_type": "code",
   "execution_count": 4,
   "metadata": {},
   "outputs": [
    {
     "ename": "NameError",
     "evalue": "name 'onnx' is not defined",
     "output_type": "error",
     "traceback": [
      "\u001b[1;31m---------------------------------------------------------------------------\u001b[0m",
      "\u001b[1;31mNameError\u001b[0m                                 Traceback (most recent call last)",
      "Cell \u001b[1;32mIn[4], line 1\u001b[0m\n\u001b[1;32m----> 1\u001b[0m cnn \u001b[38;5;241m=\u001b[39m \u001b[43monnx\u001b[49m\u001b[38;5;241m.\u001b[39mload(\u001b[38;5;124m'\u001b[39m\u001b[38;5;124m./weight/cnn.onnx\u001b[39m\u001b[38;5;124m'\u001b[39m)\n\u001b[0;32m      2\u001b[0m decoder \u001b[38;5;241m=\u001b[39m onnx\u001b[38;5;241m.\u001b[39mload(\u001b[38;5;124m'\u001b[39m\u001b[38;5;124m./weight/encoder.onnx\u001b[39m\u001b[38;5;124m'\u001b[39m)\n\u001b[0;32m      3\u001b[0m encoder \u001b[38;5;241m=\u001b[39m onnx\u001b[38;5;241m.\u001b[39mload(\u001b[38;5;124m'\u001b[39m\u001b[38;5;124m./weight/decoder.onnx\u001b[39m\u001b[38;5;124m'\u001b[39m)\n",
      "\u001b[1;31mNameError\u001b[0m: name 'onnx' is not defined"
     ]
    }
   ],
   "source": [
    "cnn = onnx.load('./weight/cnn.onnx')\n",
    "decoder = onnx.load('./weight/encoder.onnx')\n",
    "encoder = onnx.load('./weight/decoder.onnx')"
   ]
  },
  {
   "cell_type": "code",
   "execution_count": 20,
   "metadata": {},
   "outputs": [],
   "source": [
    "# confirm model has valid schema\n",
    "onnx.checker.check_model(cnn)\n",
    "onnx.checker.check_model(decoder)\n",
    "onnx.checker.check_model(encoder)"
   ]
  },
  {
   "cell_type": "code",
   "execution_count": 21,
   "metadata": {},
   "outputs": [
    {
     "data": {
      "text/plain": [
       "'graph torch_jit (\\n  %tgt[INT64, 1]\\n  %hidden[FLOAT, 1x256]\\n  %encoder_outputs[FLOAT, channel_inputx1x512]\\n) initializers (\\n  %attention.attn.bias[FLOAT, 256]\\n  %embedding.weight[FLOAT, 233x256]\\n  %fc_out.weight[FLOAT, 233x1024]\\n  %fc_out.bias[FLOAT, 233]\\n  %onnx::Concat_130[INT64, 1]\\n  %onnx::MatMul_134[FLOAT, 768x256]\\n  %onnx::MatMul_135[FLOAT, 256x1]\\n  %onnx::GRU_153[FLOAT, 1x768x768]\\n  %onnx::GRU_154[FLOAT, 1x768x256]\\n  %onnx::GRU_155[FLOAT, 1x1536]\\n) {\\n  %onnx::Concat_131 = Identity(%onnx::Concat_130)\\n  %onnx::Concat_133 = Identity(%onnx::Concat_131)\\n  %onnx::Concat_132 = Identity(%onnx::Concat_130)\\n  %input = Unsqueeze[axes = [0]](%tgt)\\n  %input.3 = Gather(%embedding.weight, %input)\\n  %onnx::Gather_15 = Shape(%encoder_outputs)\\n  %onnx::Gather_16 = Constant[value = <Scalar Tensor []>]()\\n  %onnx::Unsqueeze_17 = Gather[axis = 0](%onnx::Gather_15, %onnx::Gather_16)\\n  %onnx::Expand_18 = Unsqueeze[axes = [1]](%hidden)\\n  %onnx::Concat_22 = Unsqueeze[axes = [0]](%onnx::Unsqueeze_17)\\n  %onnx::Shape_24 = Concat[axis = 0](%onnx::Concat_130, %onnx::Concat_22, %onnx::Concat_131)\\n  %onnx::Concat_26 = Unsqueeze[axes = [0]](%onnx::Unsqueeze_17)\\n  %onnx::Tile_28 = Concat[axis = 0](%onnx::Concat_132, %onnx::Concat_26, %onnx::Concat_133)\\n  %onnx::ConstantOfShape_29 = Shape(%onnx::Shape_24)\\n  %onnx::Expand_30 = ConstantOfShape[value = <Tensor>](%onnx::ConstantOfShape_29)\\n  %onnx::Tile_31 = Expand(%onnx::Expand_18, %onnx::Expand_30)\\n  %onnx::Concat_32 = Tile(%onnx::Tile_31, %onnx::Tile_28)\\n  %onnx::Concat_33 = Transpose[perm = [1, 0, 2]](%encoder_outputs)\\n  %onnx::MatMul_34 = Concat[axis = 2](%onnx::Concat_32, %onnx::Concat_33)\\n  %onnx::Add_36 = MatMul(%onnx::MatMul_34, %onnx::MatMul_134)\\n  %onnx::Tanh_37 = Add(%attention.attn.bias, %onnx::Add_36)\\n  %onnx::MatMul_38 = Tanh(%onnx::Tanh_37)\\n  %onnx::Squeeze_40 = MatMul(%onnx::MatMul_38, %onnx::MatMul_135)\\n  %attention = Squeeze[axes = [2]](%onnx::Squeeze_40)\\n  %onnx::Unsqueeze_42 = Softmax[axis = 1](%attention)\\n  %onnx::MatMul_43 = Unsqueeze[axes = [1]](%onnx::Unsqueeze_42)\\n  %onnx::MatMul_44 = Transpose[perm = [1, 0, 2]](%encoder_outputs)\\n  %onnx::Transpose_45 = MatMul(%onnx::MatMul_43, %onnx::MatMul_44)\\n  %onnx::Concat_46 = Transpose[perm = [1, 0, 2]](%onnx::Transpose_45)\\n  %input.7 = Concat[axis = 2](%input.3, %onnx::Concat_46)\\n  %hidden.1 = Unsqueeze[axes = [0]](%hidden)\\n  %onnx::Squeeze_106, %onnx::Shape_107 = GRU[hidden_size = 256, linear_before_reset = 1](%input.7, %onnx::GRU_153, %onnx::GRU_154, %onnx::GRU_155, %, %hidden.1)\\n  %onnx::Shape_108 = Squeeze[axes = [1]](%onnx::Squeeze_106)\\n  %onnx::Concat_109 = Squeeze[axes = [0]](%input.3)\\n  %onnx::Gather_110 = Constant[value = <Tensor>]()\\n  %onnx::Gather_111 = Shape(%onnx::Shape_108)\\n  %onnx::Equal_112 = Gather[axis = 0](%onnx::Gather_111, %onnx::Gather_110)\\n  %onnx::Equal_113 = Constant[value = <Tensor>]()\\n  %onnx::If_114 = Equal(%onnx::Equal_112, %onnx::Equal_113)\\n  %onnx::Concat_115 = If[else_branch = <graph torch_jit2>, then_branch = <graph torch_jit1>](%onnx::If_114)\\n  %onnx::Concat_118 = Squeeze[axes = [0]](%onnx::Concat_46)\\n  %onnx::Gemm_119 = Concat[axis = 1](%onnx::Concat_115, %onnx::Concat_118, %onnx::Concat_109)\\n  %output = Gemm[alpha = 1, beta = 1, transB = 1](%onnx::Gemm_119, %fc_out.weight, %fc_out.bias)\\n  %onnx::Gather_121 = Constant[value = <Tensor>]()\\n  %onnx::Gather_122 = Shape(%onnx::Shape_107)\\n  %onnx::Equal_123 = Gather[axis = 0](%onnx::Gather_122, %onnx::Gather_121)\\n  %onnx::Equal_124 = Constant[value = <Tensor>]()\\n  %onnx::If_125 = Equal(%onnx::Equal_123, %onnx::Equal_124)\\n  %hidden_out = If[else_branch = <graph torch_jit4>, then_branch = <graph torch_jit3>](%onnx::If_125)\\n  %last = Squeeze[axes = [1]](%onnx::MatMul_43)\\n  return %output, %hidden_out, %last\\n}\\n\\ngraph torch_jit1 {\\n  %116 = Squeeze[axes = [0]](%onnx::Shape_108)\\n  return %116\\n}\\n\\ngraph torch_jit2 {\\n  %117 = Identity(%onnx::Shape_108)\\n  return %117\\n}\\n\\ngraph torch_jit3 {\\n  %127 = Squeeze[axes = [0]](%onnx::Shape_107)\\n  return %127\\n}\\n\\ngraph torch_jit4 {\\n  %128 = Identity(%onnx::Shape_107)\\n  return %128\\n}'"
      ]
     },
     "execution_count": 21,
     "metadata": {},
     "output_type": "execute_result"
    }
   ],
   "source": [
    "# # Print a human readable representation of the graph\n",
    "onnx.helper.printable_graph(encoder.graph)"
   ]
  },
  {
   "cell_type": "markdown",
   "metadata": {},
   "source": [
    "## Inference directly"
   ]
  },
  {
   "cell_type": "code",
   "execution_count": 6,
   "metadata": {},
   "outputs": [],
   "source": [
    "img = Image.open('../prj8.1-id-card-tools/algorithm/16.jpg')\n",
    "img = process_input(img, config['dataset']['image_height'], \n",
    "                config['dataset']['image_min_width'], config['dataset']['image_max_width'])  \n",
    "img = img.to(config['device'])"
   ]
  },
  {
   "cell_type": "code",
   "execution_count": 8,
   "metadata": {},
   "outputs": [
    {
     "name": "stdout",
     "output_type": "stream",
     "text": [
      "torch.Size([1, 3, 32, 240])\n",
      "1\n"
     ]
    }
   ],
   "source": [
    "print(img.shape)\n",
    "print(len(img))"
   ]
  },
  {
   "cell_type": "code",
   "execution_count": 15,
   "metadata": {},
   "outputs": [
    {
     "name": "stdout",
     "output_type": "stream",
     "text": [
      "tensor([0.4667, 0.4627, 0.4471, 0.4667, 0.4667, 0.4706, 0.4588, 0.4510, 0.4588,\n",
      "        0.4824, 0.4902, 0.4667, 0.4745, 0.4824, 0.4824, 0.4784, 0.4863, 0.4824,\n",
      "        0.4824, 0.4902, 0.4824, 0.4784, 0.4784, 0.4784, 0.4902, 0.4863, 0.4824,\n",
      "        0.4902, 0.4863, 0.4863, 0.4902, 0.4980, 0.5020, 0.4941, 0.5020, 0.5098,\n",
      "        0.5059, 0.5059, 0.5020, 0.5137, 0.5137, 0.5059, 0.4902, 0.4941, 0.4941,\n",
      "        0.4941, 0.4980, 0.5020, 0.5059, 0.5098, 0.5059, 0.5059, 0.5020, 0.4980,\n",
      "        0.4941, 0.5020, 0.5059, 0.5137, 0.5216, 0.5137, 0.5020, 0.5020, 0.5020,\n",
      "        0.5059, 0.5176, 0.5098, 0.5059, 0.5059, 0.5176, 0.5216, 0.5098, 0.5137,\n",
      "        0.5255, 0.5216, 0.5098, 0.4980, 0.4980, 0.4863, 0.4510, 0.4118, 0.3686,\n",
      "        0.3569, 0.3804, 0.4078, 0.4510, 0.4863, 0.4980, 0.5176, 0.5294, 0.5294,\n",
      "        0.5216, 0.5333, 0.5333, 0.5255, 0.5294, 0.5333, 0.5255, 0.5176, 0.5216,\n",
      "        0.5255, 0.5216, 0.5216, 0.5333, 0.5373, 0.5373, 0.5333, 0.5333, 0.5294,\n",
      "        0.5255, 0.5255, 0.5333, 0.5412, 0.5451, 0.5451, 0.5373, 0.5294, 0.5373,\n",
      "        0.5412, 0.5412, 0.5333, 0.5294, 0.5333, 0.5451, 0.5451, 0.5373, 0.5451,\n",
      "        0.5412, 0.5294, 0.5294, 0.5333, 0.5255, 0.5255, 0.5333, 0.5333, 0.5333,\n",
      "        0.5294, 0.5216, 0.5176, 0.5294, 0.5294, 0.5294, 0.5176, 0.5176, 0.5294,\n",
      "        0.5333, 0.5216, 0.5137, 0.5098, 0.5255, 0.5294, 0.5294, 0.5098, 0.4980,\n",
      "        0.4980, 0.5059, 0.5020, 0.4863, 0.4706, 0.4667, 0.4784, 0.4902, 0.4824,\n",
      "        0.4588, 0.4627, 0.4353, 0.4157, 0.4196, 0.4196, 0.4235, 0.4196, 0.4157,\n",
      "        0.4196, 0.4235, 0.4078, 0.3922, 0.4039, 0.4235, 0.4314, 0.4314, 0.4157,\n",
      "        0.4157, 0.4275, 0.4431, 0.4392, 0.4510, 0.4588, 0.4510, 0.4627, 0.4431,\n",
      "        0.4353, 0.4314, 0.4471, 0.4549, 0.4471, 0.4431, 0.4471, 0.4549, 0.4510,\n",
      "        0.4549, 0.4471, 0.4431, 0.4314, 0.4353, 0.4353, 0.4275, 0.4314, 0.3882,\n",
      "        0.3412, 0.4078, 0.4196, 0.4196, 0.4314, 0.4353, 0.4275, 0.4275, 0.4314,\n",
      "        0.4314, 0.4235, 0.4353, 0.4235, 0.4235, 0.4196, 0.3961, 0.2980, 0.1137,\n",
      "        0.2078, 0.3451, 0.3451, 0.3569, 0.3412, 0.1725, 0.1569, 0.3373, 0.3686,\n",
      "        0.3255, 0.2235, 0.0784, 0.0510, 0.1765, 0.3569])\n"
     ]
    },
    {
     "data": {
      "text/plain": [
       "<matplotlib.image.AxesImage at 0x279d09fc9d0>"
      ]
     },
     "execution_count": 15,
     "metadata": {},
     "output_type": "execute_result"
    },
    {
     "data": {
      "image/png": "[encoded data removed]",
      "text/plain": [
       "<Figure size 640x480 with 1 Axes>"
      ]
     },
     "metadata": {},
     "output_type": "display_data"
    }
   ],
   "source": [
    "print(img[0][0][0])\n",
    "plt.imshow(np.transpose(img[0], (1,2,0)))"
   ]
  },
  {
   "cell_type": "code",
   "execution_count": 10,
   "metadata": {},
   "outputs": [
    {
     "data": {
      "text/plain": [
       "'Thốt Nốt, Thốt Nốt, Cần Thơ'"
      ]
     },
     "execution_count": 10,
     "metadata": {},
     "output_type": "execute_result"
    }
   ],
   "source": [
    "s = translate(img, model)[0].tolist()\n",
    "s = vocab.decode(s)\n",
    "s"
   ]
  },
  {
   "cell_type": "markdown",
   "metadata": {},
   "source": [
    "## Inference with ONNX Runtime's Python API"
   ]
  },
  {
   "cell_type": "code",
   "execution_count": 7,
   "metadata": {},
   "outputs": [],
   "source": [
    "# create inference session\n",
    "cnn_session = onnxruntime.InferenceSession(\"./weight/cnn.onnx\")\n",
    "encoder_session = onnxruntime.InferenceSession(\"./weight/encoder.onnx\")\n",
    "decoder_session = onnxruntime.InferenceSession(\"./weight/decoder.onnx\")"
   ]
  },
  {
   "cell_type": "code",
   "execution_count": 9,
   "metadata": {},
   "outputs": [],
   "source": [
    "import time\n",
    "def translate_onnx(img, session, max_seq_length=128, sos_token=1, eos_token=2):\n",
    "    \"\"\"data: BxCxHxW\"\"\"\n",
    "    cnn_session, encoder_session, decoder_session = session\n",
    "\n",
    "    # create cnn input\n",
    "    cnn_input = {cnn_session.get_inputs()[0].name: img}\n",
    "    src = cnn_session.run(None, cnn_input)\n",
    "\n",
    "    # create encoder input\n",
    "    encoder_input = {encoder_session.get_inputs()[0].name: src[0]}\n",
    "    encoder_outputs, hidden = encoder_session.run(None, encoder_input)\n",
    "\n",
    "    translated_sentence = [[sos_token] * len(img)]\n",
    "\n",
    "    max_length = 0\n",
    "\n",
    "    while max_length <= max_seq_length and not all(np.any(np.asarray(translated_sentence).T == eos_token, axis=1)):\n",
    "        tgt_inp = translated_sentence\n",
    "        decoder_input = {decoder_session.get_inputs()[0].name: tgt_inp[-1], decoder_session.get_inputs()[1].name: hidden, decoder_session.get_inputs()[2].name: encoder_outputs}\n",
    "\n",
    "        output, hidden, _ = decoder_session.run(None, decoder_input)\n",
    "\n",
    "        output = np.expand_dims(output, axis=1)\n",
    "\n",
    "        output = torch.Tensor(output)\n",
    "\n",
    "        values, indices = torch.topk(output, 1)\n",
    "        indices = indices[:, -1, 0]\n",
    "        indices = indices.tolist()\n",
    "\n",
    "        translated_sentence.append(indices)\n",
    "        max_length += 1\n",
    "\n",
    "        del output\n",
    "    \n",
    "    translated_sentence = np.asarray(translated_sentence).T\n",
    "    \n",
    "    return translated_sentence"
   ]
  },
  {
   "cell_type": "code",
   "execution_count": 17,
   "metadata": {},
   "outputs": [
    {
     "name": "stdout",
     "output_type": "stream",
     "text": [
      "(1, 120, 1, 256)\n",
      "[[[-0.07372621  0.09173683  0.05526305 ... -0.1273543  -0.09739669\n",
      "    0.21116973]]\n",
      "\n",
      " [[-0.00561377  0.02310089 -0.0184825  ...  0.03480972  0.01481546\n",
      "    0.09960299]]\n",
      "\n",
      " [[-0.00782682  0.08407912 -0.02092777 ...  0.13797507 -0.0921014\n",
      "    0.0907843 ]]\n",
      "\n",
      " ...\n",
      "\n",
      " [[ 0.18265617  0.2209473  -0.09452756 ...  0.20331839 -0.17025083\n",
      "    0.24646181]]\n",
      "\n",
      " [[ 0.17050093  0.18558167 -0.03175992 ... -0.01648795 -0.12564254\n",
      "    0.12240183]]\n",
      "\n",
      " [[ 0.16716224  0.14826965 -0.00096989 ... -0.11169431 -0.17000443\n",
      "    0.06073988]]]\n"
     ]
    }
   ],
   "source": [
    "cnn_input = {cnn_session.get_inputs()[0].name: np.array(img)}\n",
    "src = cnn_session.run(None, cnn_input)\n",
    "print(np.shape(src))\n",
    "print(src[0])"
   ]
  },
  {
   "cell_type": "code",
   "execution_count": 45,
   "metadata": {},
   "outputs": [
    {
     "name": "stdout",
     "output_type": "stream",
     "text": [
      "(120, 1, 512)\n",
      "(1, 256)\n",
      "[[[-0.02742085 -0.00201841  0.10276211 ... -0.04756666  0.50088286\n",
      "   -0.3966113 ]]\n",
      "\n",
      " [[-0.06561998  0.00559155  0.22463742 ... -0.03819258  0.49505535\n",
      "   -0.45395043]]\n",
      "\n",
      " [[-0.11232643  0.00936338  0.29537213 ... -0.29157156  0.4737768\n",
      "   -0.4056033 ]]\n",
      "\n",
      " ...\n",
      "\n",
      " [[-0.35410458  0.21591268 -0.16574018 ... -0.05805764  0.36042073\n",
      "    0.03458491]]\n",
      "\n",
      " [[-0.35066736  0.24728529 -0.20085132 ... -0.02513563  0.28417662\n",
      "    0.03539183]]\n",
      "\n",
      " [[-0.34844178  0.29230937 -0.24435979 ... -0.0230902   0.15061843\n",
      "    0.01252212]]]\n"
     ]
    }
   ],
   "source": [
    "encoder_input = {encoder_session.get_inputs()[0].name: src[0]}\n",
    "encoder_outputs, hidden = encoder_session.run(None, encoder_input)\n",
    "print(np.shape(encoder_outputs))\n",
    "print(np.shape(hidden))\n",
    "print(encoder_outputs)"
   ]
  },
  {
   "cell_type": "code",
   "execution_count": 10,
   "metadata": {},
   "outputs": [
    {
     "name": "stdout",
     "output_type": "stream",
     "text": [
      "cnn  0.05596733093261719\n",
      "encoder  0.004995822906494141\n",
      "decoder  0.09994363784790039\n"
     ]
    },
    {
     "data": {
      "text/plain": [
       "'Thốt Nốt, Thốt Nốt, Cần Thơ'"
      ]
     },
     "execution_count": 10,
     "metadata": {},
     "output_type": "execute_result"
    }
   ],
   "source": [
    "session = (cnn_session, encoder_session, decoder_session)\n",
    "s = translate_onnx(np.array(img), session)[0].tolist()\n",
    "s = vocab.decode(s)\n",
    "s"
   ]
  },
  {
   "cell_type": "code",
   "execution_count": 17,
   "metadata": {},
   "outputs": [
    {
     "name": "stdout",
     "output_type": "stream",
     "text": [
      "[[  1]\n",
      " [145]\n",
      " [ 76]\n",
      " [120]\n",
      " [144]\n",
      " [232]\n",
      " [ 99]\n",
      " [120]\n",
      " [144]\n",
      " [211]\n",
      " [232]\n",
      " [145]\n",
      " [ 76]\n",
      " [120]\n",
      " [144]\n",
      " [232]\n",
      " [ 99]\n",
      " [120]\n",
      " [144]\n",
      " [211]\n",
      " [232]\n",
      " [ 43]\n",
      " [ 30]\n",
      " [ 98]\n",
      " [232]\n",
      " [145]\n",
      " [ 76]\n",
      " [124]\n",
      " [  2]]\n",
      "[1, 145, 76, 120, 144, 232, 99, 120, 144, 211, 232, 145, 76, 120, 144, 232, 99, 120, 144, 211, 232, 43, 30, 98, 232, 145, 76, 124, 2]\n"
     ]
    }
   ],
   "source": [
    "session = (cnn_session, encoder_session, decoder_session)\n",
    "print(translate_onnx(np.array(img), session)[0].tolist())"
   ]
  },
  {
   "cell_type": "code",
   "execution_count": 28,
   "metadata": {},
   "outputs": [
    {
     "name": "stdout",
     "output_type": "stream",
     "text": [
      "[1, 145, 76, 120, 144, 232, 99, 120, 144, 211, 232, 145, 76, 120, 144, 232, 99, 120, 144, 211, 232, 43, 30, 98, 232, 145, 76, 124, 2]\n",
      "Thốt Nốt, Thốt Nốt, Cần Thơ\n"
     ]
    }
   ],
   "source": [
    "print(translate(img, model)[0].tolist())\n",
    "print(vocab.decode(translate(img, model)[0].tolist()))"
   ]
  },
  {
   "cell_type": "code",
   "execution_count": 1,
   "metadata": {},
   "outputs": [
    {
     "data": {
      "text/plain": [
       "'2.2.1+cu118'"
      ]
     },
     "execution_count": 1,
     "metadata": {},
     "output_type": "execute_result"
    }
   ],
   "source": [
    "import torch\n",
    "torch.__version__"
   ]
  },
  {
   "cell_type": "code",
   "execution_count": 2,
   "metadata": {},
   "outputs": [
    {
     "data": {
      "text/plain": [
       "'0.17.1+cu118'"
      ]
     },
     "execution_count": 2,
     "metadata": {},
     "output_type": "execute_result"
    }
   ],
   "source": [
    "import torchvision\n",
    "torchvision.__version__"
   ]
  },
  {
   "cell_type": "code",
   "execution_count": 1,
   "metadata": {},
   "outputs": [
    {
     "name": "stdout",
     "output_type": "stream",
     "text": [
      "Looking in indexes: https://download.pytorch.org/whl/cu118\n",
      "Requirement already satisfied: torch in c:\\users\\z230\\miniforge3\\lib\\site-packages (2.2.1+cu118)\n",
      "Requirement already satisfied: torchvision in c:\\users\\z230\\miniforge3\\lib\\site-packages (0.17.1+cu118)\n",
      "Requirement already satisfied: torchaudio in c:\\users\\z230\\miniforge3\\lib\\site-packages (2.2.1+cu118)\n",
      "Requirement already satisfied: filelock in c:\\users\\z230\\miniforge3\\lib\\site-packages (from torch) (3.9.0)\n",
      "Requirement already satisfied: typing-extensions>=4.8.0 in c:\\users\\z230\\miniforge3\\lib\\site-packages (from torch) (4.8.0)\n",
      "Requirement already satisfied: sympy in c:\\users\\z230\\miniforge3\\lib\\site-packages (from torch) (1.12)\n",
      "Requirement already satisfied: networkx in c:\\users\\z230\\miniforge3\\lib\\site-packages (from torch) (3.2.1)\n",
      "Requirement already satisfied: jinja2 in c:\\users\\z230\\miniforge3\\lib\\site-packages (from torch) (3.1.2)\n",
      "Requirement already satisfied: fsspec in c:\\users\\z230\\miniforge3\\lib\\site-packages (from torch) (2023.4.0)\n",
      "Requirement already satisfied: numpy in c:\\users\\z230\\miniforge3\\lib\\site-packages (from torchvision) (1.26.3)\n",
      "Requirement already satisfied: pillow!=8.3.*,>=5.3.0 in c:\\users\\z230\\miniforge3\\lib\\site-packages (from torchvision) (10.2.0)\n",
      "Requirement already satisfied: MarkupSafe>=2.0 in c:\\users\\z230\\miniforge3\\lib\\site-packages (from jinja2->torch) (2.1.3)\n",
      "Requirement already satisfied: mpmath>=0.19 in c:\\users\\z230\\miniforge3\\lib\\site-packages (from sympy->torch) (1.3.0)\n"
     ]
    }
   ],
   "source": [
    "!pip3 install torch torchvision torchaudio --index-url https://download.pytorch.org/whl/cu118"
   ]
  }
 ],
 "metadata": {
  "kernelspec": {
   "display_name": "Python 3",
   "language": "python",
   "name": "python3"
  },
  "language_info": {
   "codemirror_mode": {
    "name": "ipython",
    "version": 3
   },
   "file_extension": ".py",
   "mimetype": "text/x-python",
   "name": "python",
   "nbconvert_exporter": "python",
   "pygments_lexer": "ipython3",
   "version": "3.8.0"
  },
  "orig_nbformat": 2
 },
 "nbformat": 4,
 "nbformat_minor": 2
}
