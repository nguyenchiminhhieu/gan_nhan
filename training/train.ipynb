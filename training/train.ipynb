{
 "cells": [
  {
   "cell_type": "markdown",
   "metadata": {},
   "source": [
    "# Train model\n",
    "\n",
    "\n",
    "1.   Load your config\n",
    "2.   Train model using your dataset above\n",
    "\n",
    "Load the default config, we adopt VGG for image feature \n",
    "\n",
    "\n",
    "# Change the config \n",
    "\n",
    "* *data_root*: the folder save your all images\n",
    "* *train_annotation*: path to train annotation\n",
    "* *valid_annotation*: path to valid annotation\n",
    "* *print_every*: show train loss at every n steps\n",
    "* *valid_every*: show validation loss at every n steps\n",
    "* *iters*: number of iteration to train your model\n",
    "* *export*: export weights to folder that you can use for inference\n",
    "* *metrics*: number of sample in validation annotation you use for computing full_sequence_accuracy, for large dataset it will take too long, then you can reuduce this number\n"
   ]
  },
  {
   "cell_type": "code",
   "execution_count": 1,
   "metadata": {},
   "outputs": [
    {
     "name": "stderr",
     "output_type": "stream",
     "text": [
      "c:\\Users\\vohungvi\\AppData\\Local\\Programs\\Python\\Python37\\lib\\site-packages\\torchvision\\models\\_utils.py:209: UserWarning: The parameter 'pretrained' is deprecated since 0.13 and will be removed in 0.15, please use 'weights' instead.\n",
      "  f\"The parameter '{pretrained_param}' is deprecated since 0.13 and will be removed in 0.15, \"\n",
      "c:\\Users\\vohungvi\\AppData\\Local\\Programs\\Python\\Python37\\lib\\site-packages\\torchvision\\models\\_utils.py:223: UserWarning: Arguments other than a weight enum or `None` for 'weights' are deprecated since 0.13 and will be removed in 0.15. The current behavior is equivalent to passing `weights=VGG19_BN_Weights.IMAGENET1K_V1`. You can also use `weights=VGG19_BN_Weights.DEFAULT` to get the most up-to-date weights.\n",
      "  warnings.warn(msg)\n",
      "10935it [00:05, 2169.68it/s]\n",
      "Create train_hw: 100%|████████████████████████████████████████| 4098/4098 [00:01<00:00, 3876.67it/s]"
     ]
    },
    {
     "name": "stdout",
     "output_type": "stream",
     "text": [
      "Remove 1 invalid images\n",
      "Created dataset with 4096 samples\n"
     ]
    },
    {
     "name": "stderr",
     "output_type": "stream",
     "text": [
      "\n",
      "train_hw build cluster: 100%|███████████████████████████████| 4096/4096 [00:00<00:00, 107768.21it/s]\n",
      "Create valid_hw: 100%|████████████████████████████████████████| 4098/4098 [00:01<00:00, 3855.76it/s]"
     ]
    },
    {
     "name": "stdout",
     "output_type": "stream",
     "text": [
      "Remove 1 invalid images\n",
      "Created dataset with 4096 samples\n"
     ]
    },
    {
     "name": "stderr",
     "output_type": "stream",
     "text": [
      "\n",
      "valid_hw build cluster: 100%|███████████████████████████████| 4096/4096 [00:00<00:00, 104997.95it/s]\n"
     ]
    }
   ],
   "source": [
    "from vietocr.tool.config import Cfg\n",
    "from vietocr.model.trainer import Trainer\n",
    "\n",
    "config = Cfg.load_config_from_name('vgg_seq2seq')\n",
    "\n",
    "\n",
    "dataset_params = {\n",
    "    'name':'hw',\n",
    "    'data_root':'D:\\Data.ML\\idcard\\extracted',\n",
    "    'train_annotation':'label.txt',\n",
    "    'valid_annotation':'label.txt'\n",
    "}\n",
    "\n",
    "params = {\n",
    "         'print_every':200,\n",
    "         'valid_every':15*200,\n",
    "          'iters':20000,\n",
    "          'checkpoint':'./checkpoint/seq2seqocr_checkpoint.pth',    \n",
    "          'export':'./weights/seq2seqocr.pth',\n",
    "          'metrics': 10000\n",
    "         }\n",
    "\n",
    "config['trainer'].update(params)\n",
    "config['dataset'].update(dataset_params)\n",
    "config['device'] = 'cuda:0'\n",
    "config['dataloader']['num_workers'] = 0\n",
    "\n",
    "trainer = Trainer(config, pretrained=True)"
   ]
  },
  {
   "cell_type": "code",
   "execution_count": 2,
   "metadata": {},
   "outputs": [],
   "source": [
    "trainer.config.save('config.yml')"
   ]
  },
  {
   "cell_type": "code",
   "execution_count": null,
   "metadata": {},
   "outputs": [],
   "source": [
    "trainer.visualize_dataset()"
   ]
  },
  {
   "cell_type": "code",
   "execution_count": null,
   "metadata": {},
   "outputs": [],
   "source": [
    "trainer.train()"
   ]
  }
 ],
 "metadata": {
  "kernelspec": {
   "display_name": "Python 3",
   "language": "python",
   "name": "python3"
  },
  "language_info": {
   "codemirror_mode": {
    "name": "ipython",
    "version": 3
   },
   "file_extension": ".py",
   "mimetype": "text/x-python",
   "name": "python",
   "nbconvert_exporter": "python",
   "pygments_lexer": "ipython3",
   "version": "3.7.3"
  }
 },
 "nbformat": 4,
 "nbformat_minor": 2
}
